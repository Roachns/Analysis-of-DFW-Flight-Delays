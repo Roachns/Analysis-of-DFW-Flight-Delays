{
 "cells": [
  {
   "cell_type": "code",
   "execution_count": 1,
   "metadata": {
    "collapsed": true
   },
   "outputs": [],
   "source": [
    "import glob\n",
    "import pandas as pd"
   ]
  },
  {
   "cell_type": "code",
   "execution_count": 2,
   "metadata": {
    "collapsed": true
   },
   "outputs": [],
   "source": [
    "path =r'C:\\\\Resources\\\\Flight_Delays_2016' # use your path\n",
    "allFiles = glob.glob(path + \"/*.csv\")\n",
    "combinedDF = pd.DataFrame()\n",
    "aggregatedcsvs = []\n",
    "for file in allFiles:\n",
    "    df = pd.read_csv(file, index_col=None, header=0, low_memory=False)\n",
    "    #print(file)\n",
    "    aggregatedcsvs.append(df)\n",
    "combinedDF = pd.concat(aggregatedcsvs, axis=0)\n",
    "combinedDF.to_csv('C:\\\\Resources\\\\DFWcombineddata.csv', mode='a')"
   ]
  },
  {
   "cell_type": "code",
   "execution_count": 3,
   "metadata": {
    "collapsed": true
   },
   "outputs": [],
   "source": [
    "yearDF = combinedDF.groupby([\"Month\"])[\"UniqueCarrier\"].unique()\n",
    "yearDF.head()"
   ]
  }
 ],
 "metadata": {
  "kernelspec": {
   "display_name": "Python 3",
   "language": "python",
   "name": "python3"
  },
  "language_info": {
   "codemirror_mode": {
    "name": "ipython",
    "version": 3
   },
   "file_extension": ".py",
   "mimetype": "text/x-python",
   "name": "python",
   "nbconvert_exporter": "python",
   "pygments_lexer": "ipython3",
   "version": "3.6.2"
  }
 },
 "nbformat": 4,
 "nbformat_minor": 2
}
